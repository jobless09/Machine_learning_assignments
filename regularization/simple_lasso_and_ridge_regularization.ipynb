{
    "metadata": {
        "kernelspec": {
            "name": "python3",
            "display_name": "Python 3 (ipykernel)",
            "language": "python"
        }
    },
    "nbformat": 4,
    "nbformat_minor": 4,
    "cells": [
        {
            "cell_type": "code",
            "execution_count": 1,
            "metadata": {
                "collapsed": true
            },
            "outputs": [],
            "source": [
                "# Import libraries\n",
                "%matplotlib inline\n",
                "import pandas as pd\n",
                "import numpy as np\n",
                "import matplotlib.pyplot as plt\n",
                "from sklearn import preprocessing\n",
                "from sklearn.linear_model import Lasso\n",
                "from sklearn.linear_model import Ridge\n",
                "from sklearn.metrics import mean_squared_error\n",
                "from sklearn.linear_model import LinearRegression\n",
                "from sklearn.model_selection import train_test_split\n",
                "from sklearn.preprocessing import PolynomialFeatures"
            ]
        },
        {
            "attachments": {},
            "cell_type": "markdown",
            "metadata": {},
            "source": [
                "### Reading the dataset"
            ]
        },
        {
            "cell_type": "code",
            "execution_count": 2,
            "metadata": {
                "collapsed": true
            },
            "outputs": [
                {
                    "data": {
                        "text/html": "\u003cdiv\u003e\n\u003cstyle scoped\u003e\n    .dataframe tbody tr th:only-of-type {\n        vertical-align: middle;\n    }\n\n    .dataframe tbody tr th {\n        vertical-align: top;\n    }\n\n    .dataframe thead th {\n        text-align: right;\n    }\n\u003c/style\u003e\n\u003ctable border=\"1\" class=\"dataframe\"\u003e\n  \u003cthead\u003e\n    \u003ctr style=\"text-align: right;\"\u003e\n      \u003cth\u003e\u003c/th\u003e\n      \u003cth\u003ecrim\u003c/th\u003e\n      \u003cth\u003eindus\u003c/th\u003e\n      \u003cth\u003enox\u003c/th\u003e\n      \u003cth\u003erm\u003c/th\u003e\n      \u003cth\u003eage\u003c/th\u003e\n      \u003cth\u003edis\u003c/th\u003e\n      \u003cth\u003erad\u003c/th\u003e\n      \u003cth\u003etax\u003c/th\u003e\n      \u003cth\u003eptratio\u003c/th\u003e\n      \u003cth\u003eblack\u003c/th\u003e\n      \u003cth\u003elstat\u003c/th\u003e\n      \u003cth\u003emedv\u003c/th\u003e\n    \u003c/tr\u003e\n  \u003c/thead\u003e\n  \u003ctbody\u003e\n    \u003ctr\u003e\n      \u003cth\u003e0\u003c/th\u003e\n      \u003ctd\u003e0.00632\u003c/td\u003e\n      \u003ctd\u003e2.31\u003c/td\u003e\n      \u003ctd\u003e0.538\u003c/td\u003e\n      \u003ctd\u003e6.575\u003c/td\u003e\n      \u003ctd\u003e65.2\u003c/td\u003e\n      \u003ctd\u003e4.0900\u003c/td\u003e\n      \u003ctd\u003e1\u003c/td\u003e\n      \u003ctd\u003e296\u003c/td\u003e\n      \u003ctd\u003e15.3\u003c/td\u003e\n      \u003ctd\u003e396.90\u003c/td\u003e\n      \u003ctd\u003e4.98\u003c/td\u003e\n      \u003ctd\u003e24.0\u003c/td\u003e\n    \u003c/tr\u003e\n    \u003ctr\u003e\n      \u003cth\u003e1\u003c/th\u003e\n      \u003ctd\u003e0.02731\u003c/td\u003e\n      \u003ctd\u003e7.07\u003c/td\u003e\n      \u003ctd\u003e0.469\u003c/td\u003e\n      \u003ctd\u003e6.421\u003c/td\u003e\n      \u003ctd\u003e78.9\u003c/td\u003e\n      \u003ctd\u003e4.9671\u003c/td\u003e\n      \u003ctd\u003e2\u003c/td\u003e\n      \u003ctd\u003e242\u003c/td\u003e\n      \u003ctd\u003e17.8\u003c/td\u003e\n      \u003ctd\u003e396.90\u003c/td\u003e\n      \u003ctd\u003e9.14\u003c/td\u003e\n      \u003ctd\u003e21.6\u003c/td\u003e\n    \u003c/tr\u003e\n    \u003ctr\u003e\n      \u003cth\u003e2\u003c/th\u003e\n      \u003ctd\u003e0.02729\u003c/td\u003e\n      \u003ctd\u003e7.07\u003c/td\u003e\n      \u003ctd\u003e0.469\u003c/td\u003e\n      \u003ctd\u003e7.185\u003c/td\u003e\n      \u003ctd\u003e61.1\u003c/td\u003e\n      \u003ctd\u003e4.9671\u003c/td\u003e\n      \u003ctd\u003e2\u003c/td\u003e\n      \u003ctd\u003e242\u003c/td\u003e\n      \u003ctd\u003e17.8\u003c/td\u003e\n      \u003ctd\u003e392.83\u003c/td\u003e\n      \u003ctd\u003e4.03\u003c/td\u003e\n      \u003ctd\u003e34.7\u003c/td\u003e\n    \u003c/tr\u003e\n    \u003ctr\u003e\n      \u003cth\u003e3\u003c/th\u003e\n      \u003ctd\u003e0.03237\u003c/td\u003e\n      \u003ctd\u003e2.18\u003c/td\u003e\n      \u003ctd\u003e0.458\u003c/td\u003e\n      \u003ctd\u003e6.998\u003c/td\u003e\n      \u003ctd\u003e45.8\u003c/td\u003e\n      \u003ctd\u003e6.0622\u003c/td\u003e\n      \u003ctd\u003e3\u003c/td\u003e\n      \u003ctd\u003e222\u003c/td\u003e\n      \u003ctd\u003e18.7\u003c/td\u003e\n      \u003ctd\u003e394.63\u003c/td\u003e\n      \u003ctd\u003e2.94\u003c/td\u003e\n      \u003ctd\u003e33.4\u003c/td\u003e\n    \u003c/tr\u003e\n    \u003ctr\u003e\n      \u003cth\u003e4\u003c/th\u003e\n      \u003ctd\u003e0.06905\u003c/td\u003e\n      \u003ctd\u003e2.18\u003c/td\u003e\n      \u003ctd\u003e0.458\u003c/td\u003e\n      \u003ctd\u003e7.147\u003c/td\u003e\n      \u003ctd\u003e54.2\u003c/td\u003e\n      \u003ctd\u003e6.0622\u003c/td\u003e\n      \u003ctd\u003e3\u003c/td\u003e\n      \u003ctd\u003e222\u003c/td\u003e\n      \u003ctd\u003e18.7\u003c/td\u003e\n      \u003ctd\u003e396.90\u003c/td\u003e\n      \u003ctd\u003e5.33\u003c/td\u003e\n      \u003ctd\u003e36.2\u003c/td\u003e\n    \u003c/tr\u003e\n  \u003c/tbody\u003e\n\u003c/table\u003e\n\u003c/div\u003e",
                        "text/plain": "      crim  indus    nox     rm   age     dis  rad  tax  ptratio   black  \\\n0  0.00632   2.31  0.538  6.575  65.2  4.0900    1  296     15.3  396.90   \n1  0.02731   7.07  0.469  6.421  78.9  4.9671    2  242     17.8  396.90   \n2  0.02729   7.07  0.469  7.185  61.1  4.9671    2  242     17.8  392.83   \n3  0.03237   2.18  0.458  6.998  45.8  6.0622    3  222     18.7  394.63   \n4  0.06905   2.18  0.458  7.147  54.2  6.0622    3  222     18.7  396.90   \n\n   lstat  medv  \n0   4.98  24.0  \n1   9.14  21.6  \n2   4.03  34.7  \n3   2.94  33.4  \n4   5.33  36.2  "
                    },
                    "execution_count": 2,
                    "metadata": {},
                    "output_type": "execute_result"
                }
            ],
            "source": [
                "# Read the file \"Boston_housing.csv\" as a dataframe\n",
                "\n",
                "df = pd.read_csv(\"Boston_housing.csv\")\n",
                "df.head()"
            ]
        },
        {
            "attachments": {},
            "cell_type": "markdown",
            "metadata": {},
            "source": [
                "## Predictors \u0026 Response variables\n",
                "\n",
                "Select the following columns as predictors\n",
                "- crim\n",
                "- indus\n",
                "- nox\n",
                "- rm\n",
                "- age\n",
                "- dis\n",
                "- rad\n",
                "- tax\n",
                "- ptratio\n",
                "- black\n",
                "- lstat\n",
                "\n",
                "#### Select the 'medv' column as response variable"
            ]
        },
        {
            "cell_type": "code",
            "execution_count": 3,
            "metadata": {},
            "outputs": [],
            "source": [
                "# Select a subdataframe of predictors mentioned above\n",
                "\n",
                "X = df[['crim','indus','nox','rm','age','dis','rad','tax','ptratio','black','lstat']]\n",
                "\n",
                "# Normalize the values of the dataframe \n",
                "\n",
                "X_norm = preprocessing.normalize(X)\n",
                "\n",
                "# Select medv as the response variable\n",
                "\n",
                "y = df['medv']"
            ]
        },
        {
            "attachments": {},
            "cell_type": "markdown",
            "metadata": {},
            "source": [
                "### Split the dataset into train and validation sets\n",
                "\n",
                "Keep the test size as 30% of the dataset, and use ```random_state```=31"
            ]
        },
        {
            "cell_type": "code",
            "execution_count": 4,
            "metadata": {},
            "outputs": [],
            "source": [
                "### edTest(test_random) ###\n",
                "# Split the data into train and validation sets\n",
                "\n",
                "X_train, X_val, y_train, y_val = train_test_split(X_norm,y,test_size=0.3,random_state=31)\n",
                ""
            ]
        },
        {
            "attachments": {},
            "cell_type": "markdown",
            "metadata": {},
            "source": [
                "### Multi-linear Regression Analysis"
            ]
        },
        {
            "cell_type": "code",
            "execution_count": 5,
            "metadata": {
                "collapsed": true
            },
            "outputs": [],
            "source": [
                "#Fit a linear regression model on the training data\n",
                "\n",
                "lreg = LinearRegression()\n",
                "lreg.fit(X_train,y_train)\n",
                "\n",
                "# Predict on the validation set\n",
                "\n",
                "y_val_pred = lreg.predict(X_val)"
            ]
        },
        {
            "attachments": {},
            "cell_type": "markdown",
            "metadata": {},
            "source": [
                "### Computing the MSE for Multi-Linear Regression"
            ]
        },
        {
            "cell_type": "code",
            "execution_count": 6,
            "metadata": {
                "collapsed": true
            },
            "outputs": [
                {
                    "name": "stdout",
                    "output_type": "stream",
                    "text": "Multi-linear regression validation MSE is 20.133951375165328\n"
                }
            ],
            "source": [
                "# Use the mean_squared_error function to compute the validation mse\n",
                "\n",
                "mse = mean_squared_error(y_val,y_val_pred)\n",
                "\n",
                "# print the MSE value\n",
                "\n",
                "print (\"Multi-linear regression validation MSE is\", mse)"
            ]
        },
        {
            "attachments": {},
            "cell_type": "markdown",
            "metadata": {},
            "source": [
                "### Obtaining the coefficients of the predictors"
            ]
        },
        {
            "cell_type": "code",
            "execution_count": 7,
            "metadata": {},
            "outputs": [],
            "source": [
                "#make a dictionary of the coefficients along with the predictors as keys\n",
                "\n",
                "lreg_coef = dict(zip(X.columns, np.transpose(lreg.coef_)))\n",
                "\n",
                "#Linear regression coefficient values to plot\n",
                "\n",
                "lreg_x = list(lreg_coef.keys())\n",
                "lreg_y = list(lreg_coef.values())"
            ]
        },
        {
            "cell_type": "code",
            "execution_count": 8,
            "metadata": {},
            "outputs": [
                {
                    "data": {
                        "text/plain": "{'crim': -92.8379956362872,\n 'indus': 34.40502056315186,\n 'nox': -6065.499520555732,\n 'rm': 3055.9160025028173,\n 'age': -4.938036130799326,\n 'dis': -526.9067702420849,\n 'rad': 171.5487903972316,\n 'tax': 8.089192348451379,\n 'ptratio': -442.042911975438,\n 'black': 13.553417095972803,\n 'lstat': -228.20776805254192}"
                    },
                    "execution_count": 8,
                    "metadata": {},
                    "output_type": "execute_result"
                }
            ],
            "source": [
                "lreg_coef"
            ]
        },
        {
            "attachments": {},
            "cell_type": "markdown",
            "metadata": {},
            "source": [
                "### Implementing Lasso regularization"
            ]
        },
        {
            "cell_type": "code",
            "execution_count": 9,
            "metadata": {
                "collapsed": true
            },
            "outputs": [],
            "source": [
                "# Now, you will implement the lasso regularisation\n",
                "\n",
                "# Use alpha = 0.008\n",
                "\n",
                "lasso_reg = Lasso(alpha=0.008)\n",
                "\n",
                "#Fit on training data\n",
                "\n",
                "lasso_reg.fit(X_train,y_train)\n",
                "\n",
                "#Make a prediction on the validation data using the above trained model\n",
                "\n",
                "y_val_pred =lasso_reg.predict(X_val)\n",
                ""
            ]
        },
        {
            "attachments": {},
            "cell_type": "markdown",
            "metadata": {},
            "source": [
                "### Computing the MSE with Lasso regularization"
            ]
        },
        {
            "cell_type": "code",
            "execution_count": 10,
            "metadata": {
                "collapsed": true
            },
            "outputs": [
                {
                    "name": "stdout",
                    "output_type": "stream",
                    "text": "Lasso validation MSE is 31.676774400084444\n"
                }
            ],
            "source": [
                "# Again, calculate the validation MSE \u0026 print it\n",
                "\n",
                "mse_lasso = mean_squared_error(y_val,y_val_pred)\n",
                "\n",
                "print (\"Lasso validation MSE is\", mse_lasso)"
            ]
        },
        {
            "attachments": {},
            "cell_type": "markdown",
            "metadata": {},
            "source": [
                "### Obtaining the coefficients of the predictors"
            ]
        },
        {
            "cell_type": "code",
            "execution_count": 11,
            "metadata": {
                "collapsed": true
            },
            "outputs": [],
            "source": [
                "# Use the helper code below to make a dictionary of the predictors along with \n",
                "# the coefficients associated with them\n",
                "\n",
                "lasso_coef = dict(zip(X.columns, np.transpose(lasso_reg.coef_))) \n",
                "\n",
                "#Lasso regularisation coefficient values to plot\n",
                "\n",
                "lasso_x = list(lasso_coef.keys())\n",
                "lasso_y = list(lasso_coef.values())"
            ]
        },
        {
            "attachments": {},
            "cell_type": "markdown",
            "metadata": {},
            "source": [
                "### Implementing Ridge regularization"
            ]
        },
        {
            "cell_type": "code",
            "execution_count": 12,
            "metadata": {
                "collapsed": true
            },
            "outputs": [],
            "source": [
                "# Now, we do the same as above, but we use L2 regularisation\n",
                "\n",
                "# Again, use alpha=0.008\n",
                "\n",
                "ridgeReg = Ridge(alpha=0.008)\n",
                "\n",
                "#Fit the model in the training data\n",
                "ridgeReg.fit(X_train,y_train)\n",
                "\n",
                "#Predict the model on the validation data\n",
                "y_val_pred = ridgeReg.predict(X_val)\n",
                ""
            ]
        },
        {
            "attachments": {},
            "cell_type": "markdown",
            "metadata": {},
            "source": [
                "### Computing the MSE with Ridge regularization"
            ]
        },
        {
            "cell_type": "code",
            "execution_count": 13,
            "metadata": {
                "collapsed": true
            },
            "outputs": [
                {
                    "name": "stdout",
                    "output_type": "stream",
                    "text": "Ridge validation MSE is 28.053659010180827\n"
                }
            ],
            "source": [
                "### edTest(test_mse) ###\n",
                "\n",
                "# Calculate the validation MSE \u0026 print it\n",
                "\n",
                "mse_ridge = mean_squared_error(y_val,y_val_pred)\n",
                "print (\"Ridge validation MSE is\", mse_ridge)"
            ]
        },
        {
            "attachments": {},
            "cell_type": "markdown",
            "metadata": {},
            "source": [
                "### Obtaining the coefficients of the predictors"
            ]
        },
        {
            "cell_type": "code",
            "execution_count": 14,
            "metadata": {
                "collapsed": true
            },
            "outputs": [],
            "source": [
                "# Use the helper code below to make a dictionary of the predictors along \n",
                "# with the coefficients associated with them \n",
                "\n",
                "ridge_coef = dict(zip(X.columns, np.transpose(ridgeReg.coef_))) \n",
                "\n",
                "#Ridge regularisation coefficient values to plot\n",
                "\n",
                "ridge_x = list(ridge_coef.keys())\n",
                "ridge_y = list(ridge_coef.values())"
            ]
        },
        {
            "attachments": {},
            "cell_type": "markdown",
            "metadata": {},
            "source": [
                "### Plotting the graph"
            ]
        },
        {
            "cell_type": "code",
            "execution_count": 15,
            "metadata": {
                "collapsed": true
            },
            "outputs": [
                {
                    "data": {
                        "image/png": "[encoded data removed]",
                        "text/plain": "\u003cFigure size 640x480 with 1 Axes\u003e"
                    },
                    "metadata": {},
                    "output_type": "display_data"
                }
            ],
            "source": [
                "# Use the helper code below to visualise your results\n",
                "\n",
                "plt.rcdefaults()\n",
                "\n",
                "plt.barh(lreg_x,lreg_y,1.0, align='edge',color=\"#D3B4B4\", label=\"Linear Regression\")\n",
                "plt.barh(lasso_x,lasso_y,0.75 ,align='edge',color=\"#81BDB2\",label = \"Lasso regularisation\")\n",
                "plt.barh(ridge_x,ridge_y,0.25 ,align='edge',color=\"#7E7EC0\", label=\"Ridge regularisation\")\n",
                "plt.grid(linewidth=0.2)\n",
                "plt.xlabel(\"Coefficient\")\n",
                "plt.ylabel(\"Predictors\")\n",
                "plt.legend(loc='best')\n",
                "plt.xlim(-6500,3500)\n",
                "plt.show()"
            ]
        },
        {
            "attachments": {},
            "cell_type": "markdown",
            "metadata": {},
            "source": [
                "### Compare the results of linear regression with that of lasso and ridge regularization."
            ]
        },
        {
            "attachments": {},
            "cell_type": "markdown",
            "metadata": {},
            "source": [
                "Your answer here"
            ]
        },
        {
            "attachments": {},
            "cell_type": "markdown",
            "metadata": {},
            "source": [
                "### After marking, change the alpha values to 1000. What happens to the coefficients when alpha increases?"
            ]
        },
        {
            "attachments": {},
            "cell_type": "markdown",
            "metadata": {},
            "source": [
                "Your answer here"
            ]
        }
    ]
}
