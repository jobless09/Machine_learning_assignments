{
    "metadata": {
        "kernelspec": {
            "name": "python3",
            "display_name": "Python 3 (ipykernel)",
            "language": "python"
        }
    },
    "nbformat": 4,
    "nbformat_minor": 4,
    "cells": [
        {
            "cell_type": "code",
            "execution_count": 1,
            "metadata": {},
            "outputs": [],
            "source": [
                "# Import necessary libraries\n",
                "import numpy as np\n",
                "import pandas as pd\n",
                "import matplotlib.pyplot as plt\n",
                "from sklearn.linear_model import LinearRegression\n",
                "from sklearn.model_selection import train_test_split\n",
                "from sklearn.preprocessing import PolynomialFeatures\n",
                "%matplotlib inline\n",
                ""
            ]
        },
        {
            "cell_type": "code",
            "execution_count": 2,
            "metadata": {},
            "outputs": [
                {
                    "data": {
                        "text/html": "\u003cdiv\u003e\n\u003cstyle scoped\u003e\n    .dataframe tbody tr th:only-of-type {\n        vertical-align: middle;\n    }\n\n    .dataframe tbody tr th {\n        vertical-align: top;\n    }\n\n    .dataframe thead th {\n        text-align: right;\n    }\n\u003c/style\u003e\n\u003ctable border=\"1\" class=\"dataframe\"\u003e\n  \u003cthead\u003e\n    \u003ctr style=\"text-align: right;\"\u003e\n      \u003cth\u003e\u003c/th\u003e\n      \u003cth\u003ex\u003c/th\u003e\n      \u003cth\u003ey\u003c/th\u003e\n    \u003c/tr\u003e\n  \u003c/thead\u003e\n  \u003ctbody\u003e\n    \u003ctr\u003e\n      \u003cth\u003e0\u003c/th\u003e\n      \u003ctd\u003e-3.292157\u003c/td\u003e\n      \u003ctd\u003e-46.916988\u003c/td\u003e\n    \u003c/tr\u003e\n    \u003ctr\u003e\n      \u003cth\u003e1\u003c/th\u003e\n      \u003ctd\u003e0.799528\u003c/td\u003e\n      \u003ctd\u003e-3.941553\u003c/td\u003e\n    \u003c/tr\u003e\n    \u003ctr\u003e\n      \u003cth\u003e2\u003c/th\u003e\n      \u003ctd\u003e-0.936214\u003c/td\u003e\n      \u003ctd\u003e-2.800522\u003c/td\u003e\n    \u003c/tr\u003e\n    \u003ctr\u003e\n      \u003cth\u003e3\u003c/th\u003e\n      \u003ctd\u003e-4.722680\u003c/td\u003e\n      \u003ctd\u003e-103.030914\u003c/td\u003e\n    \u003c/tr\u003e\n    \u003ctr\u003e\n      \u003cth\u003e4\u003c/th\u003e\n      \u003ctd\u003e-3.602674\u003c/td\u003e\n      \u003ctd\u003e-54.020819\u003c/td\u003e\n    \u003c/tr\u003e\n  \u003c/tbody\u003e\n\u003c/table\u003e\n\u003c/div\u003e",
                        "text/plain": "          x           y\n0 -3.292157  -46.916988\n1  0.799528   -3.941553\n2 -0.936214   -2.800522\n3 -4.722680 -103.030914\n4 -3.602674  -54.020819"
                    },
                    "execution_count": 2,
                    "metadata": {},
                    "output_type": "execute_result"
                }
            ],
            "source": [
                "# Read the data from 'poly.csv' into a Pandas dataframe\n",
                "df = pd.read_csv('poly.csv')\n",
                "\n",
                "# Take a quick look at the dataframe\n",
                "df.head()\n",
                ""
            ]
        },
        {
            "cell_type": "code",
            "execution_count": 3,
            "metadata": {},
            "outputs": [],
            "source": [
                "# Get the column values for x \u0026 y as numpy arrays\n",
                "x = df[['x']].to_numpy()\n",
                "y = df['y'].to_numpy()\n",
                ""
            ]
        },
        {
            "cell_type": "code",
            "execution_count": 4,
            "metadata": {},
            "outputs": [
                {
                    "data": {
                        "image/png": "[encoded data removed]",
                        "text/plain": "\u003cFigure size 432x288 with 1 Axes\u003e"
                    },
                    "metadata": {
                        "needs_background": "light"
                    },
                    "output_type": "display_data"
                }
            ],
            "source": [
                "# Helper code to plot x \u0026 y to visually inspect the data\n",
                "fig, ax = plt.subplots()\n",
                "ax.plot(x,y,'x')\n",
                "ax.set_xlabel('$x$ values')\n",
                "ax.set_ylabel('$y$ values')\n",
                "ax.set_title('$y$ vs $x$')\n",
                "plt.show();\n",
                ""
            ]
        },
        {
            "cell_type": "code",
            "execution_count": 5,
            "metadata": {},
            "outputs": [],
            "source": [
                "# Split the data into train and test sets\n",
                "# Set the train size to 0.8 and random state to 22\n",
                "x_train, x_test, y_train, y_test = train_test_split(x,y,test_size=0.2,random_state=22)\n",
                ""
            ]
        },
        {
            "cell_type": "code",
            "execution_count": 6,
            "metadata": {},
            "outputs": [],
            "source": [
                "# Initialize a linear model\n",
                "model = LinearRegression()\n",
                "\n",
                "# Fit the model on the train data\n",
                "model.fit(x_train,y_train)\n",
                "\n",
                "# Get the predictions on the test data using the trained model\n",
                "y_lin_pred = model.predict(x_test)\n",
                ""
            ]
        },
        {
            "cell_type": "code",
            "execution_count": 72,
            "metadata": {},
            "outputs": [],
            "source": [
                "### edTest(test_deg) ###\n",
                "\n",
                "# Guess the correct polynomial degree based on the above graph\n",
                "guess_degree = 7\n",
                "\n",
                "# Generate polynomial features on the train data\n",
                "x_poly_train= PolynomialFeatures(degree=guess_degree).fit_transform(x_train)\n",
                "\n",
                "# Generate polynomial features on the test data\n",
                "x_poly_test= PolynomialFeatures(degree=guess_degree).fit_transform(x_test)\n",
                ""
            ]
        },
        {
            "cell_type": "code",
            "execution_count": 73,
            "metadata": {},
            "outputs": [],
            "source": [
                "# Initialize a model to perform polynomial regression\n",
                "polymodel = LinearRegression()\n",
                "\n",
                "# Fit the model on the polynomial transformed train data\n",
                "polymodel.fit(x_poly_train,y_train)\n",
                "\n",
                "# Predict on the entire polynomial transformed test data\n",
                "y_poly_pred = polymodel.predict(x_poly_test)\n",
                ""
            ]
        },
        {
            "cell_type": "code",
            "execution_count": 74,
            "metadata": {},
            "outputs": [],
            "source": [
                "# Helper code to visualise the results\n",
                "idx = np.argsort(x_test[:,0])\n",
                "x_test = x_test[idx]\n",
                "\n",
                "# Use the above index to get the appropriate predicted values for y_test\n",
                "# y_test values corresponding to sorted test data\n",
                "y_test = y_test[idx]\n",
                "\n",
                "# Linear predicted values  \n",
                "y_lin_pred = y_lin_pred[idx]\n",
                "\n",
                "# Non-linear predicted values\n",
                "y_poly_pred= y_poly_pred[idx]\n",
                ""
            ]
        },
        {
            "cell_type": "code",
            "execution_count": 75,
            "metadata": {},
            "outputs": [
                {
                    "data": {
                        "image/png": "[encoded data removed]",
                        "text/plain": "\u003cFigure size 432x288 with 1 Axes\u003e"
                    },
                    "metadata": {
                        "needs_background": "light"
                    },
                    "output_type": "display_data"
                }
            ],
            "source": [
                "# First plot x \u0026 y values using plt.scatter\n",
                "plt.scatter(x, y, s=10, label=\"Test Data\")\n",
                "\n",
                "# Plot the linear regression fit curve\n",
                "plt.plot(x_test,y_lin_pred,label=\"Linear fit\", color='k')\n",
                "\n",
                "# Plot the polynomial regression fit curve\n",
                "plt.plot(x_poly_test,y_poly_pred , label=\"Polynomial fit\", color='red', alpha=0.6)\n",
                "\n",
                "# Assigning labels to the axes\n",
                "plt.xlabel(\"x values\")\n",
                "plt.ylabel(\"y values\")\n",
                "plt.legend()\n",
                "plt.show();\n",
                ""
            ]
        },
        {
            "cell_type": "code",
            "execution_count": 76,
            "metadata": {},
            "outputs": [],
            "source": [
                "### edTest(test_poly_predictions) ###\n",
                "# Calculate the residual values for the polynomial model\n",
                "poly_residuals = y_test-y_poly_pred\n",
                ""
            ]
        },
        {
            "cell_type": "code",
            "execution_count": 77,
            "metadata": {},
            "outputs": [],
            "source": [
                "### edTest(test_linear_predictions) ###\n",
                "# Calculate the residual values for the linear model\n",
                "lin_residuals = y_test-y_lin_pred\n",
                ""
            ]
        },
        {
            "cell_type": "code",
            "execution_count": 0,
            "metadata": {},
            "outputs": [],
            "source": [
                "# Helper code to plot the residual values\n",
                "# Plot the histograms of the residuals for the two cases\n",
                "\n",
                "# Distribution of residuals\n",
                "fig, ax = plt.subplots(1,2, figsize = (10,4))\n",
                "bins = np.linspace(-20,20,20)\n",
                "ax[0].set_xlabel('Residuals')\n",
                "ax[0].set_ylabel('Frequency')\n",
                "\n",
                "# Plot the histograms for the polynomial regression\n",
                "ax[0].hist(___, bins, label = ___, color='#B2D7D0', alpha=0.6 , edgecolor='black')\n",
                "\n",
                "# Plot the histograms for the linear regression\n",
                "ax[0].hist(___, bins, label = ___, color='#EFAEA4', alpha=0.6, edgecolor= 'black')\n",
                "\n",
                "ax[0].legend(loc = 'upper left')\n",
                "\n",
                "# Distribution of predicted values with the residuals\n",
                "ax[1].scatter(y_poly_pred, poly_residuals, s=10, color='#B2D7D0', label='Polynomial predictions')\n",
                "ax[1].scatter(y_lin_pred, lin_residuals, s = 10, color='#EFAEA4', label='Linear predictions' )\n",
                "ax[1].set_xlim(-75,75)\n",
                "ax[1].axhline(y = 0, color = 'black', linestyle = 'dashed',label='Zero Residual')\n",
                "ax[1].set_xlabel('Predicted values')\n",
                "ax[1].set_ylabel('Residuals')\n",
                "ax[1].legend(loc = 'upper left')\n",
                "\n",
                "fig.suptitle('Residual Analysis (Linear vs Polynomial)')\n",
                "plt.show();\n",
                ""
            ]
        },
        {
            "attachments": {},
            "cell_type": "markdown",
            "metadata": {},
            "source": [
                "⏸ Do you think that polynomial degree is appropriate. Experiment with a degree of polynomial of 2 and comment on what you observe for the residuals?"
            ]
        },
        {
            "cell_type": "code",
            "execution_count": 79,
            "metadata": {},
            "outputs": [],
            "source": [
                "### edTest(test_chow1) ###\n",
                "# Type your answer within in the quotes given\n",
                "answer1 = '1'\n",
                ""
            ]
        },
        {
            "cell_type": "code",
            "execution_count": 0,
            "metadata": {},
            "outputs": [],
            "source": [
                ""
            ]
        }
    ]
}
