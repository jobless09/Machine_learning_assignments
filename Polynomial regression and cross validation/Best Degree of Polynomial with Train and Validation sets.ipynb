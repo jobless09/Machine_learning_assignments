{
    "metadata": {
        "kernelspec": {
            "name": "python3",
            "display_name": "Python 3 (ipykernel)",
            "language": "python"
        }
    },
    "nbformat": 4,
    "nbformat_minor": 4,
    "cells": [
        {
            "cell_type": "code",
            "execution_count": 1,
            "metadata": {},
            "outputs": [],
            "source": [
                "# Import necessary libraries\n",
                "import operator\n",
                "import numpy as np\n",
                "import pandas as pd\n",
                "import matplotlib.pyplot as plt\n",
                "from sklearn.metrics import mean_squared_error\n",
                "from sklearn.linear_model import LinearRegression\n",
                "from sklearn.model_selection import train_test_split\n",
                "from sklearn.preprocessing import PolynomialFeatures\n",
                "%matplotlib inline\n",
                ""
            ]
        },
        {
            "attachments": {},
            "cell_type": "markdown",
            "metadata": {},
            "source": [
                "### Reading the dataset"
            ]
        },
        {
            "cell_type": "code",
            "execution_count": 2,
            "metadata": {},
            "outputs": [
                {
                    "data": {
                        "text/html": "\u003cdiv\u003e\n\u003cstyle scoped\u003e\n    .dataframe tbody tr th:only-of-type {\n        vertical-align: middle;\n    }\n\n    .dataframe tbody tr th {\n        vertical-align: top;\n    }\n\n    .dataframe thead th {\n        text-align: right;\n    }\n\u003c/style\u003e\n\u003ctable border=\"1\" class=\"dataframe\"\u003e\n  \u003cthead\u003e\n    \u003ctr style=\"text-align: right;\"\u003e\n      \u003cth\u003e\u003c/th\u003e\n      \u003cth\u003ex\u003c/th\u003e\n      \u003cth\u003ey\u003c/th\u003e\n    \u003c/tr\u003e\n  \u003c/thead\u003e\n  \u003ctbody\u003e\n    \u003ctr\u003e\n      \u003cth\u003e0\u003c/th\u003e\n      \u003ctd\u003e4.98\u003c/td\u003e\n      \u003ctd\u003e24.0\u003c/td\u003e\n    \u003c/tr\u003e\n    \u003ctr\u003e\n      \u003cth\u003e1\u003c/th\u003e\n      \u003ctd\u003e9.14\u003c/td\u003e\n      \u003ctd\u003e21.6\u003c/td\u003e\n    \u003c/tr\u003e\n    \u003ctr\u003e\n      \u003cth\u003e2\u003c/th\u003e\n      \u003ctd\u003e4.03\u003c/td\u003e\n      \u003ctd\u003e34.7\u003c/td\u003e\n    \u003c/tr\u003e\n    \u003ctr\u003e\n      \u003cth\u003e3\u003c/th\u003e\n      \u003ctd\u003e2.94\u003c/td\u003e\n      \u003ctd\u003e33.4\u003c/td\u003e\n    \u003c/tr\u003e\n    \u003ctr\u003e\n      \u003cth\u003e4\u003c/th\u003e\n      \u003ctd\u003e5.33\u003c/td\u003e\n      \u003ctd\u003e36.2\u003c/td\u003e\n    \u003c/tr\u003e\n  \u003c/tbody\u003e\n\u003c/table\u003e\n\u003c/div\u003e",
                        "text/plain": "      x     y\n0  4.98  24.0\n1  9.14  21.6\n2  4.03  34.7\n3  2.94  33.4\n4  5.33  36.2"
                    },
                    "execution_count": 2,
                    "metadata": {},
                    "output_type": "execute_result"
                }
            ],
            "source": [
                "# Read the file \"dataset.csv\" as a Pandas dataframe\n",
                "df = pd.read_csv(\"dataset.csv\")\n",
                "\n",
                "# Take a quick look at the dataset\n",
                "df.head()\n",
                ""
            ]
        },
        {
            "cell_type": "code",
            "execution_count": 3,
            "metadata": {},
            "outputs": [],
            "source": [
                "# Assign the values of the x and y column values to the \n",
                "# predictor and response variables\n",
                "x = df[['x']].values\n",
                "y = df.y.values\n",
                ""
            ]
        },
        {
            "attachments": {},
            "cell_type": "markdown",
            "metadata": {},
            "source": [
                "### Train-validation split"
            ]
        },
        {
            "cell_type": "code",
            "execution_count": 4,
            "metadata": {
                "collapsed": true
            },
            "outputs": [],
            "source": [
                "### edTest(test_random) ###\n",
                "\n",
                "# Split the dataset into train and validation sets with 75% training set\n",
                "# Set random_state=1\n",
                "x_train, x_val, y_train, y_val = train_test_split(x,y,train_size=0.75,random_state=1)\n",
                ""
            ]
        },
        {
            "attachments": {},
            "cell_type": "markdown",
            "metadata": {},
            "source": [
                "### Computing the train and validation error in terms of MSE"
            ]
        },
        {
            "cell_type": "code",
            "execution_count": 5,
            "metadata": {},
            "outputs": [],
            "source": [
                "### edTest(test_regression) ###\n",
                "\n",
                "# To iterate over the range, select the maximum degree of the polynomial\n",
                "maxdeg = 14\n",
                "\n",
                "# Create two empty lists to store training and validation MSEs\n",
                "training_error, validation_error = [],[]\n",
                "\n",
                "# Loop through the degrees of the polynomial to create different models\n",
                "for d in range(maxdeg):\n",
                "    \n",
                "    # Compute the polynomial features for the current degree \n",
                "    # for the train set\n",
                "    x_poly_train = PolynomialFeatures(degree = d).fit_transform(x_train)\n",
                "\n",
                "    # Compute the polynomial features for the validation set\n",
                "    x_poly_val = PolynomialFeatures(degree = d).fit_transform(x_val)\n",
                "    \n",
                "    # Initialize a linear regression model\n",
                "    lreg = LinearRegression(fit_intercept=False)\n",
                "\n",
                "    # Fit the model on the train data\n",
                "    lreg.fit(x_poly_train, y_train)\n",
                "    \n",
                "    # Use the trained model to predict on the transformed train data\n",
                "    y_train_pred = lreg.predict(x_poly_train)\n",
                "\n",
                "    # Use the trained model to predict on the transformed validation data\n",
                "    y_val_pred = lreg.predict(x_poly_val)\n",
                "    \n",
                "    # Compute the MSE on the train predictions\n",
                "    training_error.append(mean_squared_error(y_train,y_train_pred))\n",
                "\n",
                "    # Compute the MSE on the validation predictions\n",
                "    validation_error.append(mean_squared_error(y_val,y_val_pred))\n",
                "    "
            ]
        },
        {
            "attachments": {},
            "cell_type": "markdown",
            "metadata": {},
            "source": [
                "### Finding the best degree"
            ]
        },
        {
            "cell_type": "code",
            "execution_count": 6,
            "metadata": {},
            "outputs": [
                {
                    "name": "stdout",
                    "output_type": "stream",
                    "text": "The best degree of the model is 2\n"
                }
            ],
            "source": [
                "### edTest(test_best_degree) ###\n",
                "\n",
                "# Helper code to compute the best degree, which is the model \n",
                "# with the lowest validation error\n",
                "min_mse = min(validation_error)\n",
                "best_degree = validation_error.index(min_mse)\n",
                "\n",
                "# Print the degree of the best model computed above\n",
                "print(\"The best degree of the model is\",best_degree)\n",
                ""
            ]
        },
        {
            "attachments": {},
            "cell_type": "markdown",
            "metadata": {},
            "source": [
                "### Plotting the error graph"
            ]
        },
        {
            "cell_type": "code",
            "execution_count": 7,
            "metadata": {
                "collapsed": true
            },
            "outputs": [
                {
                    "name": "stderr",
                    "output_type": "stream",
                    "text": "No artists with labels found to put in legend.  Note that artists whose label start with an underscore are ignored when legend() is called with no argument.\n"
                },
                {
                    "data": {
                        "image/png": "[encoded data removed]",
                        "text/plain": "\u003cFigure size 432x288 with 1 Axes\u003e"
                    },
                    "metadata": {
                        "needs_background": "light"
                    },
                    "output_type": "display_data"
                }
            ],
            "source": [
                "# Plot the errors as a function of increasing d value to visualise the training \n",
                "# and testing errors\n",
                "fig, ax = plt.subplots()\n",
                "\n",
                "# Plot the training error with labels\n",
                "ax.plot(training_error)\n",
                "\n",
                "# Plot the validation error with labels\n",
                "ax.plot(validation_error)\n",
                "\n",
                "# Set the plot labels and legends\n",
                "ax.set_xlabel('Degree of Polynomial')\n",
                "ax.set_ylabel('Mean Squared Error')\n",
                "ax.legend(loc = 'best')\n",
                "ax.set_yscale('log')\n",
                "plt.show();\n",
                ""
            ]
        },
        {
            "attachments": {},
            "cell_type": "markdown",
            "metadata": {},
            "source": [
                "⏸ If you run the exercise with a random state of 0(try this after marking), do you notice any change? What would you attribute this change to?"
            ]
        },
        {
            "cell_type": "code",
            "execution_count": 8,
            "metadata": {},
            "outputs": [],
            "source": [
                "### edTest(test_chow1) ###\n",
                "# Submit an answer choice as a string below \n",
                "answer1 = 'No change'\n",
                ""
            ]
        },
        {
            "cell_type": "code",
            "execution_count": 0,
            "metadata": {},
            "outputs": [],
            "source": [
                ""
            ]
        }
    ]
}
